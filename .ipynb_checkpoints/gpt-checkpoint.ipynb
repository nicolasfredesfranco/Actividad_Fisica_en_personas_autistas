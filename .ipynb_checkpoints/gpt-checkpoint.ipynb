{
 "cells": [
  {
   "cell_type": "code",
   "execution_count": 1,
   "metadata": {},
   "outputs": [
    {
     "name": "stdout",
     "output_type": "stream",
     "text": [
      " 2_hist_country_year.png   images\n",
      " ar.csv\t\t\t   imageS.zip\n",
      " cleaned.csv\t\t  'info_por_cluster_<1000.png'\n",
      " clusters.zip\t\t   info_por_cluster.png\n",
      " colorssssssss.zip\t   maxage_en_clusters.png\n",
      " country_x_cluster.png\t   men_en_clusters.png\n",
      " critiria_x_cluster.png    minage_en_clusters.png\n",
      " cuadro.csv\t\t   papers\n",
      " data\t\t\t   papers.ipynb\n",
      " data_analysis.ipynb\t   proportional_x_cluster.png\n",
      " data_cleaning.ipynb\t   prueba.svg\n",
      " dias_semana.odt\t   __pycache__\n",
      " EO_cluster_final.csv\t   scatter_all.png\n",
      " EO_cluster_final.xlsx\t   scatter_zoom.png\n",
      " eo.csv\t\t\t   scihub\n",
      " final_images\t\t   scihub.py\n",
      " final_images.zip\t   tabla2.csv\n",
      " gender_x_cluster.png\t   tabla_cluster\n",
      " gpt.ipynb\t\t  'todos_con_todos_men<1000.png'\n",
      " graficos\t\t   violin_year_gender.png\n",
      " hist_cluster.png\t   violin_year_gender_prop.png\n",
      " hist_country.png\t   violin_year_prop.png\n",
      " hist_country_year.png\t   women_en_clusters.png\n",
      " hist_numerical.png\n"
     ]
    }
   ],
   "source": [
    "!ls"
   ]
  },
  {
   "cell_type": "code",
   "execution_count": 2,
   "metadata": {},
   "outputs": [],
   "source": [
    "import pandas as pd\n",
    "tabla = pd.read_csv('tabla2.csv')"
   ]
  },
  {
   "cell_type": "code",
   "execution_count": 58,
   "metadata": {},
   "outputs": [
    {
     "data": {
      "text/plain": [
       "Index(['Unnamed: 0', 'author', 'year', 'critiria', 'min_age', 'max_age', 'men',\n",
       "       'women', 'proportional', 'gender', 'country_1', 'country_2', 'cluster',\n",
       "       'Factor de Impacto de revista', 'Objetivo', 'Resultados',\n",
       "       'resultados_gpt'],\n",
       "      dtype='object')"
      ]
     },
     "execution_count": 58,
     "metadata": {},
     "output_type": "execute_result"
    }
   ],
   "source": [
    "tabla.columns"
   ]
  },
  {
   "cell_type": "code",
   "execution_count": 59,
   "metadata": {},
   "outputs": [],
   "source": [
    "resultados = tabla.Resultados.tolist()\n",
    "#text = 'Could you summarize in its minimum expression each of the following paragraphs in Spanish?'\n",
    "text\n",
    "count = 0\n",
    "c = 0\n",
    "for res in resultados:\n",
    "    c += 1\n",
    "    text = text + '\\n\\n' + str(c) + '.- ' + res\n",
    "    count += 1"
   ]
  },
  {
   "cell_type": "code",
   "execution_count": 60,
   "metadata": {},
   "outputs": [],
   "source": [
    "f = open('conclus.txt', 'w')\n",
    "f.write(text)\n",
    "f.close()"
   ]
  },
  {
   "cell_type": "code",
   "execution_count": 13,
   "metadata": {},
   "outputs": [
    {
     "data": {
      "text/plain": [
       "'Los padres informaron que las actividades físicas basadas en WhatsApp eran una intervención factible y útil para aumentar el nivel de actividad física de sus hijos del espetro autista.'"
      ]
     },
     "execution_count": 13,
     "metadata": {},
     "output_type": "execute_result"
    }
   ],
   "source": [
    "resultados[18]\n"
   ]
  },
  {
   "cell_type": "code",
   "execution_count": 61,
   "metadata": {},
   "outputs": [],
   "source": [
    "f = open('resumen2.txt', 'r')\n",
    "texto = f.read()\n",
    "f.close()\n",
    "#texto = texto.split('\\n')"
   ]
  },
  {
   "cell_type": "code",
   "execution_count": 62,
   "metadata": {},
   "outputs": [],
   "source": [
    "texto = texto.split('\\n')"
   ]
  },
  {
   "cell_type": "code",
   "execution_count": 63,
   "metadata": {},
   "outputs": [],
   "source": [
    "texto = texto[:-1]"
   ]
  },
  {
   "cell_type": "code",
   "execution_count": 64,
   "metadata": {},
   "outputs": [
    {
     "data": {
      "text/plain": [
       "67"
      ]
     },
     "execution_count": 64,
     "metadata": {},
     "output_type": "execute_result"
    }
   ],
   "source": [
    "len(texto)"
   ]
  },
  {
   "cell_type": "code",
   "execution_count": 65,
   "metadata": {},
   "outputs": [
    {
     "data": {
      "text/plain": [
       "['Evaluar actigrafo en actividad física y sueño.',\n",
       " 'Desarrollar herramienta Q-sort para mapear condiciones de actividad física.',\n",
       " 'Describir percepción de padres sobre actividad física de hijos autistas.',\n",
       " 'Describir percepción de autistas sobre su participación en actividad física.',\n",
       " 'Examinar efecto de intervención conductual multicomponente.',\n",
       " 'Evaluar utilidad de cronogramas fotográficos de actividades.',\n",
       " 'Comparar biomecánica entre adolescentes autistas y neurotípicos.',\n",
       " 'Investigar diferencias en sueño, somnolencia y actividad física entre autistas y neurotípicos.',\n",
       " 'Relacionar nivel de actividad física de padres con hijos.',\n",
       " 'Comprender preferencias de actividad física de niños autistas con necesidades de comunicación complejas.',\n",
       " 'Explorar si deterioro social en autistas moderó resultados motores de programa de actividad física.',\n",
       " 'Evaluar efecto agudo del ejercicio sobre oxigenación cerebral en autistas varones.',\n",
       " 'Examinar efecto de factores intrapersonales y ambientales en actividad física en contexto escolar.',\n",
       " 'Examinar relación entre comportamiento de apoyo a actividad física de padres y niveles de actividad física de hijos autistas.',\n",
       " 'Evaluar efectos de un programa de ejercicio de 16 semanas sobre niveles de ansiedad en niños autistas con niveles de apoyo altos.',\n",
       " 'Asociar competencia en habilidades motoras con actividad física y autopercepción física en autistas.',\n",
       " 'Describir estrategias y apoyo para mejorar la participación en actividad física de niños autistas hispanos.',\n",
       " 'Estudiar relación entre actividad física y tiempo de pantalla en autistas versus neurotípicos.',\n",
       " 'Evaluar eficacia de actividad física basada en WhatsApp en niños autistas.',\n",
       " 'Explorar percepciones de padres sobre actividad física de niños autistas en pandemia.',\n",
       " 'Examinar relación entre factores ambientales y actividad física en niños autistas.',\n",
       " 'Examinar eficacia de un programa de judo en jóvenes autistas.',\n",
       " 'Comparar composición corporal y nivel de actividad física entre niños y adultos autistas.',\n",
       " 'Medir tasas de actividad física en autistas y comparar con población general.',\n",
       " 'Evaluar eficacia de un protocolo de ejercicio para reducir ansiedad en niños autistas.',\n",
       " 'Analizar variables demográficas o antropomórficas en ejercicio en adolescentes autistas versus neurotípicos.',\n",
       " 'Examinar influencia del autismo y actividad física en calidad de vida relacionada con la salud.',\n",
       " 'Examinar predictores de la Teoría de la Autodeterminación para actividad física en autistas.',\n",
       " 'Examinar asociación entre factores ambientales, actividad física y tiempo de pantalla en niños autistas y neurotípicos.',\n",
       " 'Examinar percepción de padres sobre intervención de actividad física en grupo privado de Facebook.',\n",
       " 'Evaluar asociación entre actividad física, IMC y enfermedad cardiovascular subclínica en niños autistas.',\n",
       " 'Evaluar viabilidad de yoga a distancia para mejorar habilidades relacionadas con actividad física en autistas.',\n",
       " 'Evaluar la influencia del ambiente obesogénico familiar en adolescentes autistas en antropometría y actividad física.',\n",
       " 'Evaluar la participación, actitudes y barreras para la participación de actividad física en adultos autistas.',\n",
       " 'Evaluar el uso de tecnologías de juegos de realidad virtual y captura de movimiento de bajo costo para personalizar intervenciones motoras en autistas.',\n",
       " 'Examinar cómo las fuerzas individuales, sociales y culturales influyen en la participación en la actividad física de sujetos autistas.',\n",
       " 'Medir respuestas fisiológicas y psicológicas en autistas frente a juegos (exergaming) en diversas condiciones y determinar si jugar con compañero genera algún aporte.',\n",
       " 'Examinar la relación bidireccional de las habilidades del lenguaje con las habilidades motoras.',\n",
       " 'Comparar niveles de actividad física y habilidades motoras en niños autistas y neurotípicos.',\n",
       " 'Examinar el impacto de la actividad física sobre indicadores de salud física y su relación con los síntomas de autismo.',\n",
       " 'Describir el proceso de diseño de PuzzleWalk, una aplicación móvil gamificada que promueve la actividad física en adultos del espectro autista.',\n",
       " 'Evaluar la viabilidad de un programa de ejercicio de alta intensidad para niños con autismo sin déficit intelectual y analizar los cambios asociados en el rendimiento físico.',\n",
       " 'Evaluar la efectividad de la aplicación PuzzleWalk para aumentar la actividad física y disminuir el comportamiento sedentario en adultos.',\n",
       " 'Examinar cómo los factores ambientales del vecindario y el apoyo de los padres están relacionados con los niveles de actividad física de niños autistas.',\n",
       " 'Examinar la relación de problemas emocionales/conductuales con comportamiento sedentario medido con acelerómetro.',\n",
       " 'Evaluar la viabilidad de integrar un perro de terapia en las sesiones de ejercicio y su eficacia para mejorar los resultados de la actividad física en niños del espectro autista.',\n",
       " 'Evaluar si las puntuaciones del cociente de autismo (AQ) están relacionadas con el funcionamiento ejecutivo.',\n",
       " 'Evaluar tasas de actividad física y malnutrición por exceso en población autista.',\n",
       " 'Relacionar nivel actividad física con práctica presencial y virtual a largo plazo.',\n",
       " 'Evaluar calidad del sueño en niños autistas y su relación con actividad física.',\n",
       " 'Evaluar perspectiva de padres sobre barreras y facilitadores de actividad física en hijos adultos autistas.',\n",
       " 'Probar eficacia de rutas a pie para aumentar actividad física en niños autistas.',\n",
       " 'Analizar evolución de estabilidad postural en sujetos autistas tras entrenamiento de equilibrio.',\n",
       " 'Analizar efectos de programa de actividad física inclusiva en habilidades motoras, sociales y actitudes en estudiantes autistas y neurotípicos.',\n",
       " 'Evaluar entrenamiento de fuerza, educación nutricional y técnicas de reducción del estrés en población autista.',\n",
       " 'Examinar diferencias en actividad física y desempeño motor entre sujetos autistas y neurotípicos.',\n",
       " 'Examinar factores que afectan la actividad física y sedentarismo en niños autistas.',\n",
       " 'Investigar competencia motora en niños autistas y neurotípicos de 4 a 7 años.',\n",
       " 'Medir niveles de actividad física y calidad de vida en adultos autistas con discapacidad intelectual.',\n",
       " 'Evaluar efecto de 48 semanas de ejercicio en perfil metabólico, autismo y calidad de vida en niños autistas.',\n",
       " 'Examinar efecto del ejercicio en regulación emocional y conductual en niños autistas.',\n",
       " 'Examinar impacto de actividad física en calidad de sueño y cognición en niños autistas.',\n",
       " 'Investigar nivel de actividad física en adultos del espectro autista.',\n",
       " 'Examinar efecto de la música sobre intensidad del ejercicio en niños autistas.',\n",
       " 'Estudiar cómo los ejercicios estructurados afectan el comportamiento de personas autistas, observando su estado físico después de la intervención.',\n",
       " 'Verificar cómo un programa de ejercicios educativos afecta la aptitud física y la función motora gruesa en adultos autistas con distintos niveles de apoyo.',\n",
       " 'Analizar si un programa de actividad física estructurada de 12 semanas y 24 sesiones mejora la comunicación e interacción social recíproca en autistas.']"
      ]
     },
     "execution_count": 65,
     "metadata": {},
     "output_type": "execute_result"
    }
   ],
   "source": [
    "texto"
   ]
  },
  {
   "cell_type": "code",
   "execution_count": 66,
   "metadata": {},
   "outputs": [],
   "source": [
    "tabla['objetivos_gpt'] = texto"
   ]
  },
  {
   "cell_type": "code",
   "execution_count": 67,
   "metadata": {},
   "outputs": [
    {
     "data": {
      "text/plain": [
       "[['Evaluar medición con actigrafo en actividad física y sueño.',\n",
       "  'Evaluar actigrafo en actividad física y sueño.']]"
      ]
     },
     "execution_count": 67,
     "metadata": {},
     "output_type": "execute_result"
    }
   ],
   "source": [
    "tabla.head(1)[['Objetivo',\t'objetivos_gpt']].values.tolist()"
   ]
  },
  {
   "cell_type": "code",
   "execution_count": 68,
   "metadata": {},
   "outputs": [],
   "source": [
    "tabla.to_csv('tabla2.csv', index=False)"
   ]
  },
  {
   "cell_type": "code",
   "execution_count": null,
   "metadata": {},
   "outputs": [],
   "source": []
  }
 ],
 "metadata": {
  "kernelspec": {
   "display_name": "Python 3 (ipykernel)",
   "language": "python",
   "name": "python3"
  },
  "language_info": {
   "codemirror_mode": {
    "name": "ipython",
    "version": 3
   },
   "file_extension": ".py",
   "mimetype": "text/x-python",
   "name": "python",
   "nbconvert_exporter": "python",
   "pygments_lexer": "ipython3",
   "version": "3.9.15"
  },
  "vscode": {
   "interpreter": {
    "hash": "66aa5c520a5d3a51c635b5f0069707abf2b2f254da092c704f904dcd7945c3fe"
   }
  }
 },
 "nbformat": 4,
 "nbformat_minor": 2
}
